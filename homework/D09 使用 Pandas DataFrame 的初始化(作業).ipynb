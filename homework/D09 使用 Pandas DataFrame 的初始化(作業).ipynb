{
 "cells": [
  {
   "cell_type": "code",
   "execution_count": 42,
   "metadata": {},
   "outputs": [],
   "source": [
    "#請建立類似提供結果的 DataFrame：\n",
    "#    Apples  Bananas\n",
    "# 0      30       21\n",
    "\n",
    "#             Apples  Bananas\n",
    "# 2017 Sales      35       21\n",
    "# 2018 Sales      41       34"
   ]
  },
  {
   "cell_type": "code",
   "execution_count": 43,
   "metadata": {},
   "outputs": [
    {
     "name": "stdout",
     "output_type": "stream",
     "text": [
      "   Apples  Bananas\n",
      "0      30       21\n"
     ]
    }
   ],
   "source": [
    "import numpy as np\n",
    "import pandas as pd\n",
    "df1 = pd.DataFrame([[30, 21]], columns=['Apples', 'Bananas'])\n",
    "print(df1)"
   ]
  },
  {
   "cell_type": "code",
   "execution_count": 44,
   "metadata": {},
   "outputs": [
    {
     "name": "stdout",
     "output_type": "stream",
     "text": [
      "            Apples  Bananas\n",
      "2017 Sales      35       21\n",
      "2018 Sales      41       34\n"
     ]
    }
   ],
   "source": [
    "df2 = pd.DataFrame([[35, 21], [41, 34]], index=['2017 Sales', '2018 Sales'], columns=['Apples', 'Bananas'])\n",
    "print(df2)"
   ]
  },
  {
   "cell_type": "code",
   "execution_count": 45,
   "metadata": {},
   "outputs": [],
   "source": [
    "#請問如果現在有一個 DataFrame 如下，請問資料在 Python 中可能長怎樣？\n",
    "#      city  visitor weekday\n",
    "# 0  Austin      139     Sun\n",
    "# 1  Dallas      237     Sun\n",
    "# 2  Austin      326     Mon\n",
    "# 3  Dallas      456     Mon"
   ]
  },
  {
   "cell_type": "code",
   "execution_count": 46,
   "metadata": {},
   "outputs": [
    {
     "name": "stdout",
     "output_type": "stream",
     "text": [
      "     city visitor weekday\n",
      "0  Austin     139     Sun\n",
      "1  Dallas     237     Sun\n",
      "2  Austin     326     Mon\n",
      "3  Dallas     456     Mon\n",
      "     city visitor weekday\n",
      "0  Austin     139     Sun\n",
      "1  Dallas     237     Sun\n",
      "2  Austin     326     Mon\n",
      "3  Dallas     456     Mon\n",
      "     city visitor weekday\n",
      "0  Austin     139     Sun\n",
      "1  Dallas     237     Sun\n",
      "2  Austin     326     Mon\n",
      "3  Dallas     456     Mon\n",
      "          city visitor weekday\n",
      "count        4       4       4\n",
      "unique       2       4       2\n",
      "top     Dallas     139     Sun\n",
      "freq         2       1       2\n",
      "<class 'pandas.core.frame.DataFrame'>\n",
      "RangeIndex: 4 entries, 0 to 3\n",
      "Data columns (total 3 columns):\n",
      " #   Column   Non-Null Count  Dtype \n",
      "---  ------   --------------  ----- \n",
      " 0   city     4 non-null      object\n",
      " 1   visitor  4 non-null      object\n",
      " 2   weekday  4 non-null      object\n",
      "dtypes: object(3)\n",
      "memory usage: 224.0+ bytes\n",
      "None\n"
     ]
    }
   ],
   "source": [
    "df3 = pd.DataFrame({\n",
    "    'city': ['Austin', 'Dallas', 'Austin', 'Dallas'],\n",
    "    'visitor': ['139', '237', '326', '456'],\n",
    "    'weekday': ['Sun', 'Sun', 'Mon', 'Mon'],\n",
    "})\n",
    "print(df3)\n",
    "\n",
    "print(df3.head())\n",
    "print(df3.tail())\n",
    "print(df3.describe())\n",
    "print(df3.info())"
   ]
  },
  {
   "cell_type": "code",
   "execution_count": 47,
   "metadata": {},
   "outputs": [],
   "source": [
    "#承上題，假設你想知道每個 weekday 的平均 visitor 數量，可以怎麼做？"
   ]
  },
  {
   "cell_type": "code",
   "execution_count": null,
   "metadata": {},
   "outputs": [],
   "source": []
  }
 ],
 "metadata": {
  "kernelspec": {
   "display_name": "Python 3",
   "language": "python",
   "name": "python3"
  },
  "language_info": {
   "codemirror_mode": {
    "name": "ipython",
    "version": 3
   },
   "file_extension": ".py",
   "mimetype": "text/x-python",
   "name": "python",
   "nbconvert_exporter": "python",
   "pygments_lexer": "ipython3",
   "version": "3.8.5"
  }
 },
 "nbformat": 4,
 "nbformat_minor": 4
}
