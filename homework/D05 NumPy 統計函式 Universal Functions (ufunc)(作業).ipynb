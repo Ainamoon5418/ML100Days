{
 "cells": [
  {
   "cell_type": "code",
   "execution_count": 221,
   "metadata": {},
   "outputs": [],
   "source": [
    "import numpy as np"
   ]
  },
  {
   "cell_type": "code",
   "execution_count": 222,
   "metadata": {},
   "outputs": [],
   "source": [
    "english_score = np.array([55,89,76,65,48,70])\n",
    "math_score = np.array([60,85,60,68,np.nan,60])\n",
    "chinese_score = np.array([65,90,82,72,66,77])"
   ]
  },
  {
   "cell_type": "code",
   "execution_count": 223,
   "metadata": {},
   "outputs": [],
   "source": [
    "#1. 請計算各科成績平均、最大值、最小值、標準差，其中數學缺一筆資料可忽略?"
   ]
  },
  {
   "cell_type": "code",
   "execution_count": 224,
   "metadata": {},
   "outputs": [
    {
     "data": {
      "text/plain": [
       "array([67.16666667, 66.6       , 75.33333333])"
      ]
     },
     "execution_count": 224,
     "metadata": {},
     "output_type": "execute_result"
    }
   ],
   "source": [
    "a = np.mean(english_score)\n",
    "b = np.nanmean(math_score)\n",
    "c = np.mean(chinese_score)\n",
    "score_mean = np.array((a,b,c))\n",
    "score_mean"
   ]
  },
  {
   "cell_type": "code",
   "execution_count": 225,
   "metadata": {},
   "outputs": [
    {
     "data": {
      "text/plain": [
       "array([89., 85., 90.])"
      ]
     },
     "execution_count": 225,
     "metadata": {},
     "output_type": "execute_result"
    }
   ],
   "source": [
    "d = np.amax(english_score)\n",
    "e = np.nanmax(math_score)\n",
    "f = np.amax(chinese_score)\n",
    "score_max = np.array((d,e,f))\n",
    "score_max"
   ]
  },
  {
   "cell_type": "code",
   "execution_count": 226,
   "metadata": {},
   "outputs": [
    {
     "data": {
      "text/plain": [
       "array([48., 60., 65.])"
      ]
     },
     "execution_count": 226,
     "metadata": {},
     "output_type": "execute_result"
    }
   ],
   "source": [
    "g = np.amin(english_score)\n",
    "h = np.nanmin(math_score)\n",
    "i = np.amin(chinese_score)\n",
    "score_min = np.array((g,h,i))\n",
    "score_min"
   ]
  },
  {
   "cell_type": "code",
   "execution_count": 227,
   "metadata": {},
   "outputs": [
    {
     "data": {
      "text/plain": [
       "array([13.43399502,  9.70772888,  8.8254682 ])"
      ]
     },
     "execution_count": 227,
     "metadata": {},
     "output_type": "execute_result"
    }
   ],
   "source": [
    "j = np.std(english_score)\n",
    "k = np.nanstd(math_score)\n",
    "l = np.std(chinese_score)\n",
    "score_std = np.array((j,k,l))\n",
    "score_std"
   ]
  },
  {
   "cell_type": "code",
   "execution_count": 228,
   "metadata": {},
   "outputs": [],
   "source": [
    "#2. 第五位同學補考數學後成績為55，請計算補考後數學成績平均、最大值、最小值、標準差?"
   ]
  },
  {
   "cell_type": "code",
   "execution_count": 229,
   "metadata": {},
   "outputs": [
    {
     "data": {
      "text/plain": [
       "array([67.16666667, 64.66666667, 75.33333333])"
      ]
     },
     "execution_count": 229,
     "metadata": {},
     "output_type": "execute_result"
    }
   ],
   "source": [
    "math_score_makeup = np.array([60,85,60,68,55,60])\n",
    "m = np.mean(english_score)\n",
    "n = np.mean(math_score_makeup)\n",
    "o = np.mean(chinese_score)\n",
    "score_mean_makeup = np.array((m,n,o))\n",
    "score_mean_makeup"
   ]
  },
  {
   "cell_type": "code",
   "execution_count": 230,
   "metadata": {},
   "outputs": [
    {
     "data": {
      "text/plain": [
       "array([89, 85, 90])"
      ]
     },
     "execution_count": 230,
     "metadata": {},
     "output_type": "execute_result"
    }
   ],
   "source": [
    "p = np.amax(english_score)\n",
    "q = np.max(math_score_makeup)\n",
    "r = np.amax(chinese_score)\n",
    "score_max_makeup = np.array((p,q,r))\n",
    "score_max_makeup"
   ]
  },
  {
   "cell_type": "code",
   "execution_count": 231,
   "metadata": {},
   "outputs": [
    {
     "data": {
      "text/plain": [
       "array([48, 55, 65])"
      ]
     },
     "execution_count": 231,
     "metadata": {},
     "output_type": "execute_result"
    }
   ],
   "source": [
    "s = np.amin(english_score)\n",
    "t = np.nanmin(math_score_makeup)\n",
    "u = np.amin(chinese_score)\n",
    "score_min_makeup = np.array((s,t,u))\n",
    "score_min_makeup"
   ]
  },
  {
   "cell_type": "code",
   "execution_count": 232,
   "metadata": {},
   "outputs": [
    {
     "data": {
      "text/plain": [
       "array([13.43399502,  9.86013297,  8.8254682 ])"
      ]
     },
     "execution_count": 232,
     "metadata": {},
     "output_type": "execute_result"
    }
   ],
   "source": [
    "v = np.std(english_score)\n",
    "w = np.nanstd(math_score_makeup)\n",
    "x = np.std(chinese_score)\n",
    "score_std_makeup = np.array((v,w,x))\n",
    "score_std_makeup"
   ]
  },
  {
   "cell_type": "code",
   "execution_count": 233,
   "metadata": {},
   "outputs": [],
   "source": [
    "#3. 用補考後資料找出與國文成績相關係數最高的學科?"
   ]
  },
  {
   "cell_type": "code",
   "execution_count": 234,
   "metadata": {},
   "outputs": [
    {
     "data": {
      "text/plain": [
       "array([[[1.        , 0.97792828],\n",
       "        [0.97792828, 1.        ]],\n",
       "\n",
       "       [[1.        , 0.74056803],\n",
       "        [0.74056803, 1.        ]]])"
      ]
     },
     "execution_count": 234,
     "metadata": {},
     "output_type": "execute_result"
    }
   ],
   "source": [
    "y = np.corrcoef(english_score,chinese_score)\n",
    "z = np.corrcoef(math_score_makeup,chinese_score)\n",
    "score_corrcoef = np.array((y,z))\n",
    "score_corrcoef\n",
    "#與國文成績相關係數最高的學科是英文"
   ]
  }
 ],
 "metadata": {
  "kernelspec": {
   "display_name": "Python 3",
   "language": "python",
   "name": "python3"
  },
  "language_info": {
   "codemirror_mode": {
    "name": "ipython",
    "version": 3
   },
   "file_extension": ".py",
   "mimetype": "text/x-python",
   "name": "python",
   "nbconvert_exporter": "python",
   "pygments_lexer": "ipython3",
   "version": "3.8.5"
  }
 },
 "nbformat": 4,
 "nbformat_minor": 4
}
